{
  "cells": [
    {
      "cell_type": "markdown",
      "metadata": {
        "id": "view-in-github",
        "colab_type": "text"
      },
      "source": [
        "<a href=\"https://colab.research.google.com/github/ZZongSeung/ALEXNET-algorithm/blob/main/VGGNET.ipynb\" target=\"_parent\"><img src=\"https://colab.research.google.com/assets/colab-badge.svg\" alt=\"Open In Colab\"/></a>"
      ]
    },
    {
      "cell_type": "code",
      "execution_count": 1,
      "metadata": {
        "id": "_mKAeGLGkaB2"
      },
      "outputs": [],
      "source": [
        "import torch\n",
        "import torch.nn as nn\n",
        "import pandas as pd\n",
        "import numpy as np\n",
        "import matplotlib.pyplot as plt\n",
        "from torch.utils.data import DataLoader\n",
        "from torchvision import datasets, transforms\n",
        "from torchvision.transforms import ToTensor\n",
        "import torch.nn as nn\n",
        "import torch.nn.functional as F\n",
        "from torchvision.transforms.functional import to_pil_image"
      ]
    },
    {
      "cell_type": "code",
      "execution_count": 2,
      "metadata": {
        "id": "e0mlKRYk97Uf"
      },
      "outputs": [],
      "source": [
        "train = transforms.Compose([\n",
        "    transforms.ToTensor()\n",
        "])"
      ]
    },
    {
      "cell_type": "code",
      "execution_count": 3,
      "metadata": {
        "id": "aiZd0At4-Q2K",
        "colab": {
          "base_uri": "https://localhost:8080/"
        },
        "outputId": "d71f8662-0bf4-474b-ea3d-a6a15c5dccac"
      },
      "outputs": [
        {
          "output_type": "stream",
          "name": "stdout",
          "text": [
            "Downloading http://yann.lecun.com/exdb/mnist/train-images-idx3-ubyte.gz\n",
            "Failed to download (trying next):\n",
            "HTTP Error 403: Forbidden\n",
            "\n",
            "Downloading https://ossci-datasets.s3.amazonaws.com/mnist/train-images-idx3-ubyte.gz\n",
            "Downloading https://ossci-datasets.s3.amazonaws.com/mnist/train-images-idx3-ubyte.gz to /content/MNIST/raw/train-images-idx3-ubyte.gz\n"
          ]
        },
        {
          "output_type": "stream",
          "name": "stderr",
          "text": [
            "100%|██████████| 9912422/9912422 [00:02<00:00, 4293528.27it/s]\n"
          ]
        },
        {
          "output_type": "stream",
          "name": "stdout",
          "text": [
            "Extracting /content/MNIST/raw/train-images-idx3-ubyte.gz to /content/MNIST/raw\n",
            "\n",
            "Downloading http://yann.lecun.com/exdb/mnist/train-labels-idx1-ubyte.gz\n",
            "Failed to download (trying next):\n",
            "HTTP Error 403: Forbidden\n",
            "\n",
            "Downloading https://ossci-datasets.s3.amazonaws.com/mnist/train-labels-idx1-ubyte.gz\n",
            "Downloading https://ossci-datasets.s3.amazonaws.com/mnist/train-labels-idx1-ubyte.gz to /content/MNIST/raw/train-labels-idx1-ubyte.gz\n"
          ]
        },
        {
          "output_type": "stream",
          "name": "stderr",
          "text": [
            "100%|██████████| 28881/28881 [00:00<00:00, 125415.63it/s]\n"
          ]
        },
        {
          "output_type": "stream",
          "name": "stdout",
          "text": [
            "Extracting /content/MNIST/raw/train-labels-idx1-ubyte.gz to /content/MNIST/raw\n",
            "\n",
            "Downloading http://yann.lecun.com/exdb/mnist/t10k-images-idx3-ubyte.gz\n",
            "Failed to download (trying next):\n",
            "HTTP Error 403: Forbidden\n",
            "\n",
            "Downloading https://ossci-datasets.s3.amazonaws.com/mnist/t10k-images-idx3-ubyte.gz\n",
            "Downloading https://ossci-datasets.s3.amazonaws.com/mnist/t10k-images-idx3-ubyte.gz to /content/MNIST/raw/t10k-images-idx3-ubyte.gz\n"
          ]
        },
        {
          "output_type": "stream",
          "name": "stderr",
          "text": [
            "100%|██████████| 1648877/1648877 [00:01<00:00, 1178001.72it/s]\n"
          ]
        },
        {
          "output_type": "stream",
          "name": "stdout",
          "text": [
            "Extracting /content/MNIST/raw/t10k-images-idx3-ubyte.gz to /content/MNIST/raw\n",
            "\n",
            "Downloading http://yann.lecun.com/exdb/mnist/t10k-labels-idx1-ubyte.gz\n",
            "Failed to download (trying next):\n",
            "HTTP Error 403: Forbidden\n",
            "\n",
            "Downloading https://ossci-datasets.s3.amazonaws.com/mnist/t10k-labels-idx1-ubyte.gz\n",
            "Downloading https://ossci-datasets.s3.amazonaws.com/mnist/t10k-labels-idx1-ubyte.gz to /content/MNIST/raw/t10k-labels-idx1-ubyte.gz\n"
          ]
        },
        {
          "output_type": "stream",
          "name": "stderr",
          "text": [
            "100%|██████████| 4542/4542 [00:00<00:00, 3071179.88it/s]"
          ]
        },
        {
          "output_type": "stream",
          "name": "stdout",
          "text": [
            "Extracting /content/MNIST/raw/t10k-labels-idx1-ubyte.gz to /content/MNIST/raw\n",
            "\n"
          ]
        },
        {
          "output_type": "stream",
          "name": "stderr",
          "text": [
            "\n"
          ]
        }
      ],
      "source": [
        "# 데이터 생성\n",
        "\n",
        "train_img = datasets.MNIST(\n",
        "    root = \"/content\",\n",
        "    transform = ToTensor(),\n",
        "    train=True,\n",
        "    download=True\n",
        ")\n",
        "\n",
        "test_img = datasets.MNIST(\n",
        "    root = \"/content\",\n",
        "    transform = ToTensor(),\n",
        "    train=False,\n",
        "    download=True\n",
        ")"
      ]
    },
    {
      "cell_type": "code",
      "execution_count": 17,
      "metadata": {
        "id": "V101GN2qqXPQ"
      },
      "outputs": [],
      "source": [
        "# 데이터 생성\n",
        "\n",
        "train_img1 = datasets.MNIST(\n",
        "    root = \"/content\",\n",
        "    transform = ToTensor(),\n",
        "    train=True,\n",
        "    download=True\n",
        ")\n",
        "\n",
        "test_img1 = datasets.MNIST(\n",
        "    root = \"/content\",\n",
        "    transform = ToTensor(),\n",
        "    train=False,\n",
        "    download=True\n",
        ")"
      ]
    },
    {
      "cell_type": "code",
      "execution_count": 5,
      "metadata": {
        "colab": {
          "base_uri": "https://localhost:8080/"
        },
        "id": "Af2AqoYTrXIl",
        "outputId": "d3593f6f-535e-477c-e458-a34ed5415889"
      },
      "outputs": [
        {
          "output_type": "stream",
          "name": "stdout",
          "text": [
            "torch.Size([1, 28, 28])\n",
            "5\n"
          ]
        }
      ],
      "source": [
        "# 데이터 확인\n",
        "data, target = next(iter(train_img))\n",
        "\n",
        "print(data.shape) # RGB = 1(흑백 데이터 유추)\n",
        "print(target)"
      ]
    },
    {
      "cell_type": "code",
      "execution_count": 18,
      "metadata": {
        "id": "Wz9PSd9wwHHf"
      },
      "outputs": [],
      "source": [
        "# 데이터 Loader에 생성 - batch = 128\n",
        "train_loader = DataLoader(train_img1, batch_size=128, shuffle=True)\n",
        "test_loader = DataLoader(test_img1, batch_size=128, shuffle=True)"
      ]
    },
    {
      "cell_type": "code",
      "execution_count": 7,
      "metadata": {
        "colab": {
          "base_uri": "https://localhost:8080/"
        },
        "id": "dbPtVKfSwzRk",
        "outputId": "78b3b5d6-d170-482d-d2c3-c2e838b22562"
      },
      "outputs": [
        {
          "output_type": "stream",
          "name": "stdout",
          "text": [
            "5\n"
          ]
        }
      ],
      "source": [
        "# 이미지 확인 - MNIST는 정규화가 안된다. 범위가 [0,1] 사이이므로\n",
        "img, target = next(iter(train_img))\n",
        "print(target)"
      ]
    },
    {
      "cell_type": "code",
      "execution_count": 19,
      "metadata": {
        "colab": {
          "base_uri": "https://localhost:8080/",
          "height": 227
        },
        "id": "vzERnzIOzpmi",
        "outputId": "7b8f9e6f-2f0d-421c-90c3-67a8600375cf"
      },
      "outputs": [
        {
          "output_type": "error",
          "ename": "TypeError",
          "evalue": "object of type 'int' has no len()",
          "traceback": [
            "\u001b[0;31m---------------------------------------------------------------------------\u001b[0m",
            "\u001b[0;31mTypeError\u001b[0m                                 Traceback (most recent call last)",
            "\u001b[0;32m<ipython-input-19-a0ea5ee90eae>\u001b[0m in \u001b[0;36m<cell line: 2>\u001b[0;34m()\u001b[0m\n\u001b[1;32m      1\u001b[0m \u001b[0mtarget1\u001b[0m \u001b[0;34m=\u001b[0m \u001b[0mtarget\u001b[0m\u001b[0;34m\u001b[0m\u001b[0;34m\u001b[0m\u001b[0m\n\u001b[0;32m----> 2\u001b[0;31m \u001b[0mlist_name\u001b[0m \u001b[0;34m=\u001b[0m \u001b[0;34m[\u001b[0m\u001b[0mtarget1\u001b[0m\u001b[0;34m[\u001b[0m\u001b[0mi\u001b[0m\u001b[0;34m]\u001b[0m\u001b[0;34m.\u001b[0m\u001b[0mitem\u001b[0m\u001b[0;34m(\u001b[0m\u001b[0;34m)\u001b[0m \u001b[0;32mfor\u001b[0m \u001b[0mi\u001b[0m \u001b[0;32min\u001b[0m \u001b[0mrange\u001b[0m\u001b[0;34m(\u001b[0m\u001b[0mlen\u001b[0m\u001b[0;34m(\u001b[0m\u001b[0mtarget1\u001b[0m\u001b[0;34m)\u001b[0m\u001b[0;34m)\u001b[0m\u001b[0;34m]\u001b[0m \u001b[0;31m# item은 0차원 array에서만 생성이 가능하다.\u001b[0m\u001b[0;34m\u001b[0m\u001b[0;34m\u001b[0m\u001b[0m\n\u001b[0m\u001b[1;32m      3\u001b[0m \u001b[0;34m\u001b[0m\u001b[0m\n\u001b[1;32m      4\u001b[0m \u001b[0;31m# dict type 생성\u001b[0m\u001b[0;34m\u001b[0m\u001b[0;34m\u001b[0m\u001b[0m\n\u001b[1;32m      5\u001b[0m \u001b[0mtarget_name\u001b[0m \u001b[0;34m=\u001b[0m \u001b[0;34m{\u001b[0m\u001b[0;34m}\u001b[0m\u001b[0;34m\u001b[0m\u001b[0;34m\u001b[0m\u001b[0m\n",
            "\u001b[0;31mTypeError\u001b[0m: object of type 'int' has no len()"
          ]
        }
      ],
      "source": [
        "target1 = target\n",
        "list_name = [target1[i].item() for i in range(len(target1))] # item은 0차원 array에서만 생성이 가능하다.\n",
        "\n",
        "# dict type 생성\n",
        "target_name = {}\n",
        "\n",
        "for i in range(len(list_name)):\n",
        "  target_name[f\"{i}\"] = i"
      ]
    },
    {
      "cell_type": "code",
      "execution_count": 20,
      "metadata": {
        "id": "NOjY_PDoxHOg"
      },
      "outputs": [],
      "source": [
        "# 데이터 그림\n",
        "#\n",
        "np.random.seed(1234)\n",
        "def loop_graph(row, col, data):\n",
        "    fig, axs = plt.subplots(row, col, figsize=(10, 10))\n",
        "\n",
        "    for i in range(row):\n",
        "        for j in range(col):\n",
        "            index = i * col + j\n",
        "            if index < row * col:\n",
        "                # 무작위로 인덱스 선택\n",
        "                indice = np.random.randint(len(data))\n",
        "                img, target = data[indice]\n",
        "\n",
        "                axs[i, j].imshow(img.squeeze(), cmap='gray')\n",
        "                axs[i, j].set_title(f\"Label: {target}\")\n",
        "                axs[i, j].axis('off')\n",
        "            else:\n",
        "                fig.delaxes(axs[i, j])  # 필요하지 않은 축 제거\n",
        "\n",
        "    plt.tight_layout()\n",
        "    plt.show()"
      ]
    },
    {
      "cell_type": "code",
      "execution_count": 21,
      "metadata": {
        "colab": {
          "base_uri": "https://localhost:8080/",
          "height": 896
        },
        "id": "om5n0YFr2HSq",
        "outputId": "2b4dc0a4-7f1e-46fa-8d6e-ac482034dde7"
      },
      "outputs": [
        {
          "output_type": "display_data",
          "data": {
            "text/plain": [
              "<Figure size 1000x1000 with 36 Axes>"
            ],
            "image/png": "[encoded data removed]"
          },
          "metadata": {}
        }
      ],
      "source": [
        "loop_graph(6, 6, train_img1)"
      ]
    },
    {
      "cell_type": "markdown",
      "metadata": {
        "id": "TwWSYD_C9baf"
      },
      "source": [
        "# model 생성"
      ]
    },
    {
      "cell_type": "markdown",
      "metadata": {
        "id": "KRUdreex_oHn"
      },
      "source": [
        "## 문제 정의\n",
        "----\n",
        "- VGGNet 구조 살펴보기\n",
        "\n",
        "\n",
        "\n",
        "![VGG](https://miro.medium.com/max/1100/0*6VP81rFoLWp10FcG)"
      ]
    },
    {
      "cell_type": "code",
      "execution_count": 22,
      "metadata": {
        "id": "gl0rYrFR2IX5"
      },
      "outputs": [],
      "source": [
        "cfg = {\n",
        "    'VGG11': [64, 'M', 128, 'M', 256, 256, 'M', 512, 512, 'M', 512, 512, 'M'],\n",
        "    'VGG13': [64, 64, 'M', 128, 128, 'M', 256, 256, 'M', 512, 512, 'M', 512, 512, 'M'],\n",
        "    'VGG16': [64, 64, 'M', 128, 128, 'M', 256, 256, 256, 'M', 512, 512, 512, 'M', 512, 512, 512, 'M'],\n",
        "    'VGG19': [64, 64, 'M', 128, 128, 'M', 256, 256, 256, 256, 'M', 512, 512, 512, 512, 'M', 512, 512, 512, 512, 'M'],\n",
        "}\n",
        "\n",
        "class VGGNet(nn.Module):\n",
        "    def __init__(self, vgg_name):\n",
        "        super(VGGNet, self).__init__()\n",
        "        self.features = self._make_layers(cfg[vgg_name])\n",
        "        self.classifier = nn.Sequential(\n",
        "            nn.Linear(512*1*1, 256),\n",
        "            nn.ReLU(inplace=True),\n",
        "            nn.Dropout(0.1),\n",
        "            nn.Linear(256, 100),\n",
        "            nn.ReLU(inplace=True),\n",
        "            nn.Dropout(0.1),\n",
        "            nn.Linear(100, 10),\n",
        "        )\n",
        "\n",
        "    def forward(self, x):\n",
        "        x = self.features(x)\n",
        "        x = x.view(x.size(0), -1)\n",
        "        x = self.classifier(x)\n",
        "        return x\n",
        "\n",
        "    def _make_layers(self, cfg):\n",
        "      layers = []\n",
        "      n_channels = 1  # 입력 채널 수, MNIST에서는 1 (흑백 이미지)\n",
        "\n",
        "      for x in cfg:\n",
        "        if x == \"M\":\n",
        "            layers += [nn.MaxPool2d(kernel_size=3, stride=2, padding = 1)]\n",
        "        else:\n",
        "            layers += [nn.Conv2d(n_channels, x, kernel_size=3, padding=1),\n",
        "                       nn.BatchNorm2d(x),\n",
        "                       nn.ReLU(inplace=True)]\n",
        "            n_channels = x\n",
        "      return nn.Sequential(*layers)"
      ]
    },
    {
      "cell_type": "code",
      "execution_count": 24,
      "metadata": {
        "colab": {
          "base_uri": "https://localhost:8080/"
        },
        "id": "cBnApQ7z6J9t",
        "outputId": "ca72e87e-0c90-4c6d-c7bc-226787eceb9d"
      },
      "outputs": [
        {
          "output_type": "stream",
          "name": "stdout",
          "text": [
            "cuda\n"
          ]
        }
      ],
      "source": [
        "# cuda 설정\n",
        "if torch.cuda.is_available()==True:\n",
        "  device = torch.device(\"cuda\")\n",
        "  print(device)\n",
        "else:\n",
        "  device = torch.device(\"cpu\")\n",
        "  print(device)"
      ]
    },
    {
      "cell_type": "code",
      "execution_count": 35,
      "metadata": {
        "id": "ZTW2HQ0HHjxn"
      },
      "outputs": [],
      "source": [
        "model = VGGNet('VGG13').to(device)\n",
        "from torch.optim import Adam\n",
        "\n",
        "# set hyper parameter\n",
        "lr = 1e-4\n",
        "loss = nn.CrossEntropyLoss()\n",
        "optimizer = Adam(model.parameters(), lr = lr)"
      ]
    },
    {
      "cell_type": "code",
      "execution_count": 112,
      "metadata": {
        "id": "-KjPcQMmIUAV"
      },
      "outputs": [],
      "source": [
        "# train_loop\n",
        "def train_loop(train_loader, model, loss_fn, optimizer):\n",
        "  model.train()\n",
        "  size = len(train_loader.dataset)\n",
        "\n",
        "  for batch, (data, target) in enumerate(train_loader):\n",
        "    data, target = data.to(device), target.to(device)\n",
        "    # 모델에 넣은 예측값 생성\n",
        "    pred = model(data)\n",
        "\n",
        "    # 손실 정의\n",
        "    loss = loss_fn(pred, target)\n",
        "\n",
        "    # 역전파\n",
        "    optimizer.zero_grad()\n",
        "    loss.backward()\n",
        "    optimizer.step()\n",
        "\n",
        "    if batch % 100 == 0: # 여기서 batch는 루프가 돌아가는 횟수임\n",
        "      loss, current = loss.item(), batch * len(data)\n",
        "      print(f'loss: {loss:>7f}  [{current:>5d}]/{size:5d}')"
      ]
    },
    {
      "cell_type": "code",
      "execution_count": 37,
      "metadata": {
        "colab": {
          "base_uri": "https://localhost:8080/"
        },
        "id": "6fDm1OybIUt6",
        "outputId": "729026ff-8ee0-4766-dd58-8565a0ab3e84"
      },
      "outputs": [
        {
          "output_type": "stream",
          "name": "stdout",
          "text": [
            "Epoch 1 \n",
            "------------------------\n",
            "loss: 2.309545  [    0]/60000\n",
            "loss: 0.041537  [12800]/60000\n",
            "loss: 0.048008  [25600]/60000\n",
            "loss: 0.065078  [38400]/60000\n",
            "loss: 0.027804  [51200]/60000\n",
            "Test Error: \n",
            " Accuracy: 98.5%, Avg loss: 0.051297\n",
            "\n",
            "Epoch 2 \n",
            "------------------------\n",
            "loss: 0.035886  [    0]/60000\n",
            "loss: 0.012986  [12800]/60000\n",
            "loss: 0.011440  [25600]/60000\n",
            "loss: 0.010072  [38400]/60000\n",
            "loss: 0.020092  [51200]/60000\n",
            "Test Error: \n",
            " Accuracy: 99.0%, Avg loss: 0.037369\n",
            "\n",
            "Epoch 3 \n",
            "------------------------\n",
            "loss: 0.033284  [    0]/60000\n",
            "loss: 0.021169  [12800]/60000\n",
            "loss: 0.007207  [25600]/60000\n",
            "loss: 0.003156  [38400]/60000\n",
            "loss: 0.114944  [51200]/60000\n",
            "Test Error: \n",
            " Accuracy: 99.1%, Avg loss: 0.031792\n",
            "\n",
            "Epoch 4 \n",
            "------------------------\n",
            "loss: 0.011948  [    0]/60000\n",
            "loss: 0.034499  [12800]/60000\n",
            "loss: 0.005697  [25600]/60000\n",
            "loss: 0.009648  [38400]/60000\n",
            "loss: 0.008185  [51200]/60000\n",
            "Test Error: \n",
            " Accuracy: 98.9%, Avg loss: 0.031891\n",
            "\n",
            "Epoch 5 \n",
            "------------------------\n",
            "loss: 0.030874  [    0]/60000\n",
            "loss: 0.010769  [12800]/60000\n",
            "loss: 0.012899  [25600]/60000\n",
            "loss: 0.002922  [38400]/60000\n",
            "loss: 0.012578  [51200]/60000\n",
            "Test Error: \n",
            " Accuracy: 99.2%, Avg loss: 0.026140\n",
            "\n",
            "Epoch 6 \n",
            "------------------------\n",
            "loss: 0.003063  [    0]/60000\n",
            "loss: 0.001352  [12800]/60000\n",
            "loss: 0.064300  [25600]/60000\n",
            "loss: 0.041601  [38400]/60000\n",
            "loss: 0.000596  [51200]/60000\n",
            "Test Error: \n",
            " Accuracy: 99.0%, Avg loss: 0.031550\n",
            "\n",
            "Epoch 7 \n",
            "------------------------\n",
            "loss: 0.003248  [    0]/60000\n",
            "loss: 0.021387  [12800]/60000\n",
            "loss: 0.016797  [25600]/60000\n",
            "loss: 0.002738  [38400]/60000\n",
            "loss: 0.006262  [51200]/60000\n",
            "Test Error: \n",
            " Accuracy: 99.3%, Avg loss: 0.025313\n",
            "\n",
            "Epoch 8 \n",
            "------------------------\n",
            "loss: 0.004712  [    0]/60000\n",
            "loss: 0.031628  [12800]/60000\n",
            "loss: 0.010659  [25600]/60000\n",
            "loss: 0.008741  [38400]/60000\n",
            "loss: 0.012508  [51200]/60000\n",
            "Test Error: \n",
            " Accuracy: 99.3%, Avg loss: 0.024776\n",
            "\n",
            "Epoch 9 \n",
            "------------------------\n",
            "loss: 0.002362  [    0]/60000\n",
            "loss: 0.000791  [12800]/60000\n",
            "loss: 0.006806  [25600]/60000\n",
            "loss: 0.001343  [38400]/60000\n",
            "loss: 0.013442  [51200]/60000\n",
            "Test Error: \n",
            " Accuracy: 99.4%, Avg loss: 0.023865\n",
            "\n",
            "Epoch 10 \n",
            "------------------------\n",
            "loss: 0.004679  [    0]/60000\n",
            "loss: 0.001232  [12800]/60000\n",
            "loss: 0.006142  [25600]/60000\n",
            "loss: 0.000454  [38400]/60000\n",
            "loss: 0.000269  [51200]/60000\n",
            "Test Error: \n",
            " Accuracy: 99.4%, Avg loss: 0.021506\n",
            "\n",
            "Best epoch is 10 with an accuracy of 99.4%\n"
          ]
        }
      ],
      "source": [
        "epochs = 10\n",
        "best_correct = 0.0  # 가장 높은 정확도를 저장할 변수\n",
        "best_epoch = 0      # 가장 높은 정확도를 가진 에포크 번호를 저장할 변수\n",
        "\n",
        "# 최적 epochs일 때 예측값을 넣기\n",
        "best_real = []\n",
        "best_predict = []\n",
        "error = {}\n",
        "\n",
        "for i in range(epochs):  # 에포크 횟수\n",
        "    print(f\"Epoch {i+1} \\n------------------------\")\n",
        "    train_loop(train_loader, model, loss, optimizer)\n",
        "\n",
        "    # test_loop 임--------------------------------------------.\n",
        "    set_size = len(test_loader.dataset)\n",
        "    num_batches = len(test_loader)\n",
        "    test_loss = 0\n",
        "    correct = 0\n",
        "\n",
        "    current_real = []\n",
        "    current_predict = []\n",
        "\n",
        "    with torch.no_grad():\n",
        "        for batch, (input, target) in enumerate(test_loader):\n",
        "            input, target = input.to(device), target.to(device)\n",
        "            pred = model(input)\n",
        "\n",
        "            test_loss += loss(pred, target).item()  # 각 배치 손실 더하기\n",
        "            correct += (pred.argmax(1) == target).type(torch.float).sum().item()  # 정확한 예측 수 더하기\n",
        "\n",
        "            # 현재 배치의 예측 값과 실제 값을 저장\n",
        "            current_predict.extend(pred.argmax(1).cpu().numpy())\n",
        "            current_real.extend(target.cpu().numpy())\n",
        "\n",
        "    test_loss /= num_batches  # 에포크 전체에 대한 평균 손실\n",
        "    correct /= set_size       # 에포크 전체에 대한 정확도\n",
        "    error[i]=test_loss   # 에포크 별 에러 저장\n",
        "    print(f\"Test Error: \\n Accuracy: {(100*correct):>0.1f}%, Avg loss: {test_loss:8f}\\n\")\n",
        "\n",
        "    # 정확도에 따른 best epoch 업데이트\n",
        "    if correct > best_correct:\n",
        "        best_correct = correct\n",
        "        best_epoch = i + 1\n",
        "        best_predict = current_predict  # 최적 에포크의 예측 값 저장\n",
        "        best_real = current_real        # 최적 에포크의 실제 값 저장\n",
        "\n",
        "print(f\"Best epoch is {best_epoch} with an accuracy of {best_correct*100:.1f}%\")"
      ]
    },
    {
      "cell_type": "code",
      "execution_count": null,
      "metadata": {
        "id": "f93fZ0tyIjuI"
      },
      "outputs": [],
      "source": []
    }
  ],
  "metadata": {
    "colab": {
      "provenance": [],
      "gpuType": "T4",
      "authorship_tag": "ABX9TyOlqsc+/4TymMJC8AovA2rQ",
      "include_colab_link": true
    },
    "kernelspec": {
      "display_name": "Python 3",
      "name": "python3"
    },
    "language_info": {
      "name": "python"
    },
    "accelerator": "GPU"
  },
  "nbformat": 4,
  "nbformat_minor": 0
}